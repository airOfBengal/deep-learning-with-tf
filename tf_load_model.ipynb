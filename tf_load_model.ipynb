{
 "cells": [
  {
   "cell_type": "code",
   "execution_count": 2,
   "metadata": {},
   "outputs": [],
   "source": [
    "import matplotlib.pyplot as plt\n",
    "import tensorflow as tf\n",
    "import numpy as np\n",
    "import input_data"
   ]
  },
  {
   "cell_type": "code",
   "execution_count": 3,
   "metadata": {},
   "outputs": [
    {
     "name": "stdout",
     "output_type": "stream",
     "text": [
      "Extracting MNIST_data/train-images-idx3-ubyte.gz\n",
      "Extracting MNIST_data/train-labels-idx1-ubyte.gz\n",
      "Extracting MNIST_data/t10k-images-idx3-ubyte.gz\n",
      "Extracting MNIST_data/t10k-labels-idx1-ubyte.gz\n"
     ]
    }
   ],
   "source": [
    "mnist = input_data.read_data_sets(\"MNIST_data\", one_hot=True)"
   ]
  },
  {
   "cell_type": "code",
   "execution_count": 13,
   "metadata": {},
   "outputs": [
    {
     "name": "stdout",
     "output_type": "stream",
     "text": [
      "INFO:tensorflow:Restoring parameters from ./softmax_mnist_saved_model/softmax_mnist\n",
      "x shape: (?, 28, 28, 1)\n",
      "image_b shape: (1, 28, 28, 1)\n",
      "[[1.3369905e-04 6.2434044e-04 4.0359318e-02 5.1191024e-04 4.0140733e-04\n",
      "  8.6302432e-05 9.5702440e-01 7.1582646e-05 7.0254336e-04 8.4566309e-05]]\n",
      "[6]\n"
     ]
    }
   ],
   "source": [
    "sess = tf.InteractiveSession()\n",
    "new_saver = tf.train.import_meta_graph('./softmax_mnist_saved_model/softmax_mnist.meta')\n",
    "new_saver.restore(sess, './softmax_mnist_saved_model/softmax_mnist')\n",
    "tf.get_default_graph().as_graph_def()\n",
    "x = sess.graph.get_tensor_by_name(\"input:0\")\n",
    "print('x shape:', x.shape)\n",
    "y_conv = sess.graph.get_tensor_by_name(\"output:0\")\n",
    "image_b = mnist.test.images[100]\n",
    "image_b = np.reshape(image_b, (1, 28, 28, -1))\n",
    "print('image_b shape:', image_b.shape)\n",
    "result = sess.run(y_conv, feed_dict={x:image_b})\n",
    "print(result)\n",
    "print(sess.run(tf.argmax(result, 1)))"
   ]
  },
  {
   "cell_type": "code",
   "execution_count": 14,
   "metadata": {},
   "outputs": [
    {
     "data": {
      "image/png": "[encoded data removed]",
      "text/plain": [
       "<Figure size 432x288 with 1 Axes>"
      ]
     },
     "metadata": {
      "needs_background": "light"
     },
     "output_type": "display_data"
    }
   ],
   "source": [
    "plt.imshow(image_b.reshape([28, 28]), cmap='Greys')\n",
    "plt.show()"
   ]
  },
  {
   "cell_type": "code",
   "execution_count": null,
   "metadata": {},
   "outputs": [],
   "source": []
  }
 ],
 "metadata": {
  "kernelspec": {
   "display_name": "TensorFlow-GPU",
   "language": "python",
   "name": "tf-gpu"
  },
  "language_info": {
   "codemirror_mode": {
    "name": "ipython",
    "version": 3
   },
   "file_extension": ".py",
   "mimetype": "text/x-python",
   "name": "python",
   "nbconvert_exporter": "python",
   "pygments_lexer": "ipython3",
   "version": "3.6.8"
  }
 },
 "nbformat": 4,
 "nbformat_minor": 2
}
